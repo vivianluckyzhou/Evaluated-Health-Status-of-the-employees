{
 "cells": [
  {
   "cell_type": "markdown",
   "metadata": {},
   "source": [
    " Q1. a) Are all the values in the data reasonable? Are there missing values?\n",
    "(using matplotlib to plot the distribution according to each column， and initially check the distribution of the whole data)"
   ]
  },
  {
   "cell_type": "code",
   "execution_count": 6,
   "metadata": {},
   "outputs": [
    {
     "data": {
      "text/plain": [
       "'C:\\\\Users\\\\hzhou\\\\Desktop\\\\Acumen,LLC'"
      ]
     },
     "execution_count": 6,
     "metadata": {},
     "output_type": "execute_result"
    }
   ],
   "source": [
    "import pandas as pd\n",
    "import numpy as np\n",
    "import matplotlib.pyplot as plt\n",
    "%matplotlib inline\n",
    "import os\n",
    "os.getcwd()"
   ]
  },
  {
   "cell_type": "code",
   "execution_count": 8,
   "metadata": {
    "scrolled": true
   },
   "outputs": [
    {
     "data": {
      "text/html": [
       "<div>\n",
       "<style scoped>\n",
       "    .dataframe tbody tr th:only-of-type {\n",
       "        vertical-align: middle;\n",
       "    }\n",
       "\n",
       "    .dataframe tbody tr th {\n",
       "        vertical-align: top;\n",
       "    }\n",
       "\n",
       "    .dataframe thead th {\n",
       "        text-align: right;\n",
       "    }\n",
       "</style>\n",
       "<table border=\"1\" class=\"dataframe\">\n",
       "  <thead>\n",
       "    <tr style=\"text-align: right;\">\n",
       "      <th></th>\n",
       "      <th>Observation Number</th>\n",
       "      <th>Quarter</th>\n",
       "      <th>Employee Id</th>\n",
       "      <th>Sex (Male=1)</th>\n",
       "      <th>Race</th>\n",
       "      <th>Age</th>\n",
       "      <th>Hospital Visit This Quarter (1=Yes)</th>\n",
       "      <th>Salary</th>\n",
       "      <th>Health Score</th>\n",
       "    </tr>\n",
       "  </thead>\n",
       "  <tbody>\n",
       "    <tr>\n",
       "      <th>0</th>\n",
       "      <td>1</td>\n",
       "      <td>1</td>\n",
       "      <td>1</td>\n",
       "      <td>0.0</td>\n",
       "      <td>3.0</td>\n",
       "      <td>27.31931</td>\n",
       "      <td>0</td>\n",
       "      <td>36906.57</td>\n",
       "      <td>3.695037</td>\n",
       "    </tr>\n",
       "    <tr>\n",
       "      <th>1</th>\n",
       "      <td>2</td>\n",
       "      <td>2</td>\n",
       "      <td>1</td>\n",
       "      <td>0.0</td>\n",
       "      <td>3.0</td>\n",
       "      <td>27.81931</td>\n",
       "      <td>0</td>\n",
       "      <td>37906.57</td>\n",
       "      <td>4.978868</td>\n",
       "    </tr>\n",
       "    <tr>\n",
       "      <th>2</th>\n",
       "      <td>3</td>\n",
       "      <td>3</td>\n",
       "      <td>1</td>\n",
       "      <td>0.0</td>\n",
       "      <td>3.0</td>\n",
       "      <td>28.06931</td>\n",
       "      <td>0</td>\n",
       "      <td>38906.57</td>\n",
       "      <td>4.007956</td>\n",
       "    </tr>\n",
       "    <tr>\n",
       "      <th>3</th>\n",
       "      <td>4</td>\n",
       "      <td>4</td>\n",
       "      <td>1</td>\n",
       "      <td>0.0</td>\n",
       "      <td>3.0</td>\n",
       "      <td>28.31931</td>\n",
       "      <td>0</td>\n",
       "      <td>39906.57</td>\n",
       "      <td>2.337157</td>\n",
       "    </tr>\n",
       "    <tr>\n",
       "      <th>4</th>\n",
       "      <td>5</td>\n",
       "      <td>5</td>\n",
       "      <td>1</td>\n",
       "      <td>0.0</td>\n",
       "      <td>3.0</td>\n",
       "      <td>28.56931</td>\n",
       "      <td>0</td>\n",
       "      <td>40906.57</td>\n",
       "      <td>2.112604</td>\n",
       "    </tr>\n",
       "  </tbody>\n",
       "</table>\n",
       "</div>"
      ],
      "text/plain": [
       "   Observation Number  Quarter  Employee Id  Sex (Male=1)  Race       Age  \\\n",
       "0                   1        1            1           0.0   3.0  27.31931   \n",
       "1                   2        2            1           0.0   3.0  27.81931   \n",
       "2                   3        3            1           0.0   3.0  28.06931   \n",
       "3                   4        4            1           0.0   3.0  28.31931   \n",
       "4                   5        5            1           0.0   3.0  28.56931   \n",
       "\n",
       "   Hospital Visit This Quarter (1=Yes)    Salary  Health Score  \n",
       "0                                    0  36906.57      3.695037  \n",
       "1                                    0  37906.57      4.978868  \n",
       "2                                    0  38906.57      4.007956  \n",
       "3                                    0  39906.57      2.337157  \n",
       "4                                    0  40906.57      2.112604  "
      ]
     },
     "execution_count": 8,
     "metadata": {},
     "output_type": "execute_result"
    }
   ],
   "source": [
    "data = pd.read_excel('Acumen_Data_Analysis_Exercise.xlsx',sheet_name='Data' )\n",
    "data.head()"
   ]
  },
  {
   "cell_type": "code",
   "execution_count": 3,
   "metadata": {},
   "outputs": [
    {
     "name": "stdout",
     "output_type": "stream",
     "text": [
      "Index(['Observation Number', 'Quarter', 'Employee Id', 'Sex (Male=1)', 'Race',\n",
      "       'Age', 'Hospital Visit This Quarter (1=Yes)', 'Salary', 'Health Score'],\n",
      "      dtype='object')\n"
     ]
    }
   ],
   "source": [
    "print(data.keys()) "
   ]
  },
  {
   "cell_type": "code",
   "execution_count": 8,
   "metadata": {},
   "outputs": [],
   "source": [
    "# check the data if they are reasonable. \n",
    "# The same employeeId should have the same sex and race, while the age should either stay same or getting older according to the quaters. See below code which made sure that same employeeId has same sex & race"
   ]
  },
  {
   "cell_type": "code",
   "execution_count": 9,
   "metadata": {},
   "outputs": [
    {
     "name": "stdout",
     "output_type": "stream",
     "text": [
      "number of missing values in column Sex (Male=1) is 71\n",
      "number of missing values in column Race is 2123\n"
     ]
    }
   ],
   "source": [
    "for column in data:\n",
    "    n_missing = data[column].isnull().sum()\n",
    "    if n_missing > 0:\n",
    "        print('number of missing values in column', column, 'is', n_missing)"
   ]
  },
  {
   "cell_type": "code",
   "execution_count": 11,
   "metadata": {},
   "outputs": [
    {
     "data": {
      "text/html": [
       "<div>\n",
       "<style scoped>\n",
       "    .dataframe tbody tr th:only-of-type {\n",
       "        vertical-align: middle;\n",
       "    }\n",
       "\n",
       "    .dataframe tbody tr th {\n",
       "        vertical-align: top;\n",
       "    }\n",
       "\n",
       "    .dataframe thead th {\n",
       "        text-align: right;\n",
       "    }\n",
       "</style>\n",
       "<table border=\"1\" class=\"dataframe\">\n",
       "  <thead>\n",
       "    <tr style=\"text-align: right;\">\n",
       "      <th></th>\n",
       "      <th>Employee Id</th>\n",
       "      <th>Race</th>\n",
       "      <th>Sex (Male=1)</th>\n",
       "    </tr>\n",
       "  </thead>\n",
       "  <tbody>\n",
       "    <tr>\n",
       "      <th>0</th>\n",
       "      <td>1</td>\n",
       "      <td>1</td>\n",
       "      <td>1</td>\n",
       "    </tr>\n",
       "    <tr>\n",
       "      <th>1</th>\n",
       "      <td>2</td>\n",
       "      <td>1</td>\n",
       "      <td>1</td>\n",
       "    </tr>\n",
       "    <tr>\n",
       "      <th>2</th>\n",
       "      <td>3</td>\n",
       "      <td>1</td>\n",
       "      <td>1</td>\n",
       "    </tr>\n",
       "    <tr>\n",
       "      <th>3</th>\n",
       "      <td>4</td>\n",
       "      <td>1</td>\n",
       "      <td>1</td>\n",
       "    </tr>\n",
       "    <tr>\n",
       "      <th>4</th>\n",
       "      <td>5</td>\n",
       "      <td>1</td>\n",
       "      <td>1</td>\n",
       "    </tr>\n",
       "  </tbody>\n",
       "</table>\n",
       "</div>"
      ],
      "text/plain": [
       "   Employee Id  Race  Sex (Male=1)\n",
       "0            1     1             1\n",
       "1            2     1             1\n",
       "2            3     1             1\n",
       "3            4     1             1\n",
       "4            5     1             1"
      ]
     },
     "execution_count": 11,
     "metadata": {},
     "output_type": "execute_result"
    }
   ],
   "source": [
    "data.groupby('Employee Id')[['Race', 'Sex (Male=1)']].nunique().reset_index().head()"
   ]
  },
  {
   "cell_type": "markdown",
   "metadata": {},
   "source": [
    "#b) What are the characteristics of employees at Company A? Do these demographics change over time?"
   ]
  },
  {
   "cell_type": "code",
   "execution_count": 11,
   "metadata": {},
   "outputs": [
    {
     "data": {
      "text/html": [
       "<div>\n",
       "<style scoped>\n",
       "    .dataframe tbody tr th:only-of-type {\n",
       "        vertical-align: middle;\n",
       "    }\n",
       "\n",
       "    .dataframe tbody tr th {\n",
       "        vertical-align: top;\n",
       "    }\n",
       "\n",
       "    .dataframe thead th {\n",
       "        text-align: right;\n",
       "    }\n",
       "</style>\n",
       "<table border=\"1\" class=\"dataframe\">\n",
       "  <thead>\n",
       "    <tr style=\"text-align: right;\">\n",
       "      <th>Sex (Male=1)</th>\n",
       "      <th>0.0</th>\n",
       "      <th>1.0</th>\n",
       "    </tr>\n",
       "    <tr>\n",
       "      <th>Quarter</th>\n",
       "      <th></th>\n",
       "      <th></th>\n",
       "    </tr>\n",
       "  </thead>\n",
       "  <tbody>\n",
       "    <tr>\n",
       "      <th>1</th>\n",
       "      <td>351</td>\n",
       "      <td>331</td>\n",
       "    </tr>\n",
       "    <tr>\n",
       "      <th>2</th>\n",
       "      <td>454</td>\n",
       "      <td>434</td>\n",
       "    </tr>\n",
       "    <tr>\n",
       "      <th>3</th>\n",
       "      <td>569</td>\n",
       "      <td>565</td>\n",
       "    </tr>\n",
       "    <tr>\n",
       "      <th>4</th>\n",
       "      <td>715</td>\n",
       "      <td>727</td>\n",
       "    </tr>\n",
       "    <tr>\n",
       "      <th>5</th>\n",
       "      <td>821</td>\n",
       "      <td>844</td>\n",
       "    </tr>\n",
       "    <tr>\n",
       "      <th>6</th>\n",
       "      <td>866</td>\n",
       "      <td>902</td>\n",
       "    </tr>\n",
       "    <tr>\n",
       "      <th>7</th>\n",
       "      <td>898</td>\n",
       "      <td>945</td>\n",
       "    </tr>\n",
       "    <tr>\n",
       "      <th>8</th>\n",
       "      <td>917</td>\n",
       "      <td>961</td>\n",
       "    </tr>\n",
       "    <tr>\n",
       "      <th>9</th>\n",
       "      <td>936</td>\n",
       "      <td>971</td>\n",
       "    </tr>\n",
       "    <tr>\n",
       "      <th>10</th>\n",
       "      <td>946</td>\n",
       "      <td>981</td>\n",
       "    </tr>\n",
       "    <tr>\n",
       "      <th>11</th>\n",
       "      <td>957</td>\n",
       "      <td>986</td>\n",
       "    </tr>\n",
       "    <tr>\n",
       "      <th>12</th>\n",
       "      <td>966</td>\n",
       "      <td>989</td>\n",
       "    </tr>\n",
       "  </tbody>\n",
       "</table>\n",
       "</div>"
      ],
      "text/plain": [
       "Sex (Male=1)  0.0  1.0\n",
       "Quarter               \n",
       "1             351  331\n",
       "2             454  434\n",
       "3             569  565\n",
       "4             715  727\n",
       "5             821  844\n",
       "6             866  902\n",
       "7             898  945\n",
       "8             917  961\n",
       "9             936  971\n",
       "10            946  981\n",
       "11            957  986\n",
       "12            966  989"
      ]
     },
     "execution_count": 11,
     "metadata": {},
     "output_type": "execute_result"
    }
   ],
   "source": [
    "data.groupby('Quarter')['Sex (Male=1)'].value_counts().unstack()"
   ]
  },
  {
   "cell_type": "code",
   "execution_count": 12,
   "metadata": {},
   "outputs": [
    {
     "data": {
      "text/plain": [
       "Text(0.5, 1.0, 'Sex vs Quarter')"
      ]
     },
     "execution_count": 12,
     "metadata": {},
     "output_type": "execute_result"
    },
    {
     "data": {
      "image/png": "[encoded data removed]",
      "text/plain": [
       "<Figure size 432x288 with 1 Axes>"
      ]
     },
     "metadata": {
      "needs_background": "light"
     },
     "output_type": "display_data"
    }
   ],
   "source": [
    "data.groupby('Quarter')['Sex (Male=1)'].value_counts().unstack().plot(kind='line')\n",
    "plt.ylabel('numbers')\n",
    "plt.title('Sex vs Quarter')"
   ]
  },
  {
   "cell_type": "code",
   "execution_count": 13,
   "metadata": {},
   "outputs": [
    {
     "data": {
      "text/html": [
       "<div>\n",
       "<style scoped>\n",
       "    .dataframe tbody tr th:only-of-type {\n",
       "        vertical-align: middle;\n",
       "    }\n",
       "\n",
       "    .dataframe tbody tr th {\n",
       "        vertical-align: top;\n",
       "    }\n",
       "\n",
       "    .dataframe thead th {\n",
       "        text-align: right;\n",
       "    }\n",
       "</style>\n",
       "<table border=\"1\" class=\"dataframe\">\n",
       "  <thead>\n",
       "    <tr style=\"text-align: right;\">\n",
       "      <th>Race</th>\n",
       "      <th>1.0</th>\n",
       "      <th>2.0</th>\n",
       "      <th>3.0</th>\n",
       "    </tr>\n",
       "    <tr>\n",
       "      <th>Quarter</th>\n",
       "      <th></th>\n",
       "      <th></th>\n",
       "      <th></th>\n",
       "    </tr>\n",
       "  </thead>\n",
       "  <tbody>\n",
       "    <tr>\n",
       "      <th>1</th>\n",
       "      <td>337</td>\n",
       "      <td>167</td>\n",
       "      <td>98</td>\n",
       "    </tr>\n",
       "    <tr>\n",
       "      <th>2</th>\n",
       "      <td>433</td>\n",
       "      <td>222</td>\n",
       "      <td>131</td>\n",
       "    </tr>\n",
       "    <tr>\n",
       "      <th>3</th>\n",
       "      <td>563</td>\n",
       "      <td>294</td>\n",
       "      <td>157</td>\n",
       "    </tr>\n",
       "    <tr>\n",
       "      <th>4</th>\n",
       "      <td>721</td>\n",
       "      <td>381</td>\n",
       "      <td>190</td>\n",
       "    </tr>\n",
       "    <tr>\n",
       "      <th>5</th>\n",
       "      <td>826</td>\n",
       "      <td>438</td>\n",
       "      <td>226</td>\n",
       "    </tr>\n",
       "    <tr>\n",
       "      <th>6</th>\n",
       "      <td>880</td>\n",
       "      <td>461</td>\n",
       "      <td>240</td>\n",
       "    </tr>\n",
       "    <tr>\n",
       "      <th>7</th>\n",
       "      <td>913</td>\n",
       "      <td>478</td>\n",
       "      <td>253</td>\n",
       "    </tr>\n",
       "    <tr>\n",
       "      <th>8</th>\n",
       "      <td>931</td>\n",
       "      <td>487</td>\n",
       "      <td>257</td>\n",
       "    </tr>\n",
       "    <tr>\n",
       "      <th>9</th>\n",
       "      <td>947</td>\n",
       "      <td>493</td>\n",
       "      <td>260</td>\n",
       "    </tr>\n",
       "    <tr>\n",
       "      <th>10</th>\n",
       "      <td>959</td>\n",
       "      <td>500</td>\n",
       "      <td>261</td>\n",
       "    </tr>\n",
       "    <tr>\n",
       "      <th>11</th>\n",
       "      <td>965</td>\n",
       "      <td>506</td>\n",
       "      <td>263</td>\n",
       "    </tr>\n",
       "    <tr>\n",
       "      <th>12</th>\n",
       "      <td>969</td>\n",
       "      <td>507</td>\n",
       "      <td>266</td>\n",
       "    </tr>\n",
       "  </tbody>\n",
       "</table>\n",
       "</div>"
      ],
      "text/plain": [
       "Race     1.0  2.0  3.0\n",
       "Quarter               \n",
       "1        337  167   98\n",
       "2        433  222  131\n",
       "3        563  294  157\n",
       "4        721  381  190\n",
       "5        826  438  226\n",
       "6        880  461  240\n",
       "7        913  478  253\n",
       "8        931  487  257\n",
       "9        947  493  260\n",
       "10       959  500  261\n",
       "11       965  506  263\n",
       "12       969  507  266"
      ]
     },
     "execution_count": 13,
     "metadata": {},
     "output_type": "execute_result"
    }
   ],
   "source": [
    "data.groupby('Quarter')['Race'].value_counts().unstack()"
   ]
  },
  {
   "cell_type": "code",
   "execution_count": 14,
   "metadata": {},
   "outputs": [
    {
     "data": {
      "text/plain": [
       "Text(0.5, 1.0, 'Race vs Quarter')"
      ]
     },
     "execution_count": 14,
     "metadata": {},
     "output_type": "execute_result"
    },
    {
     "data": {
      "image/png": "[encoded data removed]",
      "text/plain": [
       "<Figure size 432x288 with 1 Axes>"
      ]
     },
     "metadata": {
      "needs_background": "light"
     },
     "output_type": "display_data"
    }
   ],
   "source": [
    "data.groupby('Quarter')['Race'].value_counts().unstack().plot(kind='line')\n",
    "plt.ylabel('numbers')\n",
    "plt.title('Race vs Quarter')"
   ]
  },
  {
   "cell_type": "code",
   "execution_count": 15,
   "metadata": {},
   "outputs": [
    {
     "data": {
      "text/html": [
       "<div>\n",
       "<style scoped>\n",
       "    .dataframe tbody tr th:only-of-type {\n",
       "        vertical-align: middle;\n",
       "    }\n",
       "\n",
       "    .dataframe tbody tr th {\n",
       "        vertical-align: top;\n",
       "    }\n",
       "\n",
       "    .dataframe thead th {\n",
       "        text-align: right;\n",
       "    }\n",
       "</style>\n",
       "<table border=\"1\" class=\"dataframe\">\n",
       "  <thead>\n",
       "    <tr style=\"text-align: right;\">\n",
       "      <th>Hospital Visit This Quarter (1=Yes)</th>\n",
       "      <th>0</th>\n",
       "      <th>1</th>\n",
       "    </tr>\n",
       "    <tr>\n",
       "      <th>Quarter</th>\n",
       "      <th></th>\n",
       "      <th></th>\n",
       "    </tr>\n",
       "  </thead>\n",
       "  <tbody>\n",
       "    <tr>\n",
       "      <th>1</th>\n",
       "      <td>633</td>\n",
       "      <td>51</td>\n",
       "    </tr>\n",
       "    <tr>\n",
       "      <th>2</th>\n",
       "      <td>814</td>\n",
       "      <td>77</td>\n",
       "    </tr>\n",
       "    <tr>\n",
       "      <th>3</th>\n",
       "      <td>1030</td>\n",
       "      <td>109</td>\n",
       "    </tr>\n",
       "    <tr>\n",
       "      <th>4</th>\n",
       "      <td>1299</td>\n",
       "      <td>149</td>\n",
       "    </tr>\n",
       "    <tr>\n",
       "      <th>5</th>\n",
       "      <td>1500</td>\n",
       "      <td>171</td>\n",
       "    </tr>\n",
       "    <tr>\n",
       "      <th>6</th>\n",
       "      <td>1596</td>\n",
       "      <td>179</td>\n",
       "    </tr>\n",
       "    <tr>\n",
       "      <th>7</th>\n",
       "      <td>1660</td>\n",
       "      <td>190</td>\n",
       "    </tr>\n",
       "    <tr>\n",
       "      <th>8</th>\n",
       "      <td>1693</td>\n",
       "      <td>192</td>\n",
       "    </tr>\n",
       "    <tr>\n",
       "      <th>9</th>\n",
       "      <td>1683</td>\n",
       "      <td>231</td>\n",
       "    </tr>\n",
       "    <tr>\n",
       "      <th>10</th>\n",
       "      <td>1745</td>\n",
       "      <td>189</td>\n",
       "    </tr>\n",
       "    <tr>\n",
       "      <th>11</th>\n",
       "      <td>1760</td>\n",
       "      <td>190</td>\n",
       "    </tr>\n",
       "    <tr>\n",
       "      <th>12</th>\n",
       "      <td>1561</td>\n",
       "      <td>401</td>\n",
       "    </tr>\n",
       "  </tbody>\n",
       "</table>\n",
       "</div>"
      ],
      "text/plain": [
       "Hospital Visit This Quarter (1=Yes)     0    1\n",
       "Quarter                                       \n",
       "1                                     633   51\n",
       "2                                     814   77\n",
       "3                                    1030  109\n",
       "4                                    1299  149\n",
       "5                                    1500  171\n",
       "6                                    1596  179\n",
       "7                                    1660  190\n",
       "8                                    1693  192\n",
       "9                                    1683  231\n",
       "10                                   1745  189\n",
       "11                                   1760  190\n",
       "12                                   1561  401"
      ]
     },
     "execution_count": 15,
     "metadata": {},
     "output_type": "execute_result"
    }
   ],
   "source": [
    "data.groupby('Quarter')['Hospital Visit This Quarter (1=Yes)'].value_counts().unstack()"
   ]
  },
  {
   "cell_type": "code",
   "execution_count": 16,
   "metadata": {},
   "outputs": [
    {
     "data": {
      "text/plain": [
       "Text(0.5, 1.0, 'Hospital_Visit vs Quater')"
      ]
     },
     "execution_count": 16,
     "metadata": {},
     "output_type": "execute_result"
    },
    {
     "data": {
      "image/png": "[encoded data removed]",
      "text/plain": [
       "<Figure size 432x288 with 1 Axes>"
      ]
     },
     "metadata": {
      "needs_background": "light"
     },
     "output_type": "display_data"
    }
   ],
   "source": [
    "data.groupby('Quarter')['Hospital Visit This Quarter (1=Yes)'].value_counts().unstack().plot(kind='line')\n",
    "plt.ylabel('numbers')\n",
    "plt.title('Hospital_Visit vs Quater')"
   ]
  },
  {
   "cell_type": "code",
   "execution_count": 17,
   "metadata": {},
   "outputs": [
    {
     "data": {
      "text/html": [
       "<div>\n",
       "<style scoped>\n",
       "    .dataframe tbody tr th:only-of-type {\n",
       "        vertical-align: middle;\n",
       "    }\n",
       "\n",
       "    .dataframe tbody tr th {\n",
       "        vertical-align: top;\n",
       "    }\n",
       "\n",
       "    .dataframe thead th {\n",
       "        text-align: right;\n",
       "    }\n",
       "</style>\n",
       "<table border=\"1\" class=\"dataframe\">\n",
       "  <thead>\n",
       "    <tr style=\"text-align: right;\">\n",
       "      <th></th>\n",
       "      <th>Observation Number</th>\n",
       "      <th>Quarter</th>\n",
       "      <th>Employee Id</th>\n",
       "      <th>Sex (Male=1)</th>\n",
       "      <th>Race</th>\n",
       "      <th>Age</th>\n",
       "      <th>Hospital Visit This Quarter (1=Yes)</th>\n",
       "      <th>Salary</th>\n",
       "      <th>Health Score</th>\n",
       "    </tr>\n",
       "  </thead>\n",
       "  <tbody>\n",
       "    <tr>\n",
       "      <th>0</th>\n",
       "      <td>1</td>\n",
       "      <td>1</td>\n",
       "      <td>1</td>\n",
       "      <td>0.0</td>\n",
       "      <td>3.0</td>\n",
       "      <td>27.31931</td>\n",
       "      <td>0</td>\n",
       "      <td>36906.57</td>\n",
       "      <td>3.695037</td>\n",
       "    </tr>\n",
       "    <tr>\n",
       "      <th>1</th>\n",
       "      <td>2</td>\n",
       "      <td>2</td>\n",
       "      <td>1</td>\n",
       "      <td>0.0</td>\n",
       "      <td>3.0</td>\n",
       "      <td>27.81931</td>\n",
       "      <td>0</td>\n",
       "      <td>37906.57</td>\n",
       "      <td>4.978868</td>\n",
       "    </tr>\n",
       "    <tr>\n",
       "      <th>2</th>\n",
       "      <td>3</td>\n",
       "      <td>3</td>\n",
       "      <td>1</td>\n",
       "      <td>0.0</td>\n",
       "      <td>3.0</td>\n",
       "      <td>28.06931</td>\n",
       "      <td>0</td>\n",
       "      <td>38906.57</td>\n",
       "      <td>4.007956</td>\n",
       "    </tr>\n",
       "    <tr>\n",
       "      <th>3</th>\n",
       "      <td>4</td>\n",
       "      <td>4</td>\n",
       "      <td>1</td>\n",
       "      <td>0.0</td>\n",
       "      <td>3.0</td>\n",
       "      <td>28.31931</td>\n",
       "      <td>0</td>\n",
       "      <td>39906.57</td>\n",
       "      <td>2.337157</td>\n",
       "    </tr>\n",
       "    <tr>\n",
       "      <th>4</th>\n",
       "      <td>5</td>\n",
       "      <td>5</td>\n",
       "      <td>1</td>\n",
       "      <td>0.0</td>\n",
       "      <td>3.0</td>\n",
       "      <td>28.56931</td>\n",
       "      <td>0</td>\n",
       "      <td>40906.57</td>\n",
       "      <td>2.112604</td>\n",
       "    </tr>\n",
       "  </tbody>\n",
       "</table>\n",
       "</div>"
      ],
      "text/plain": [
       "   Observation Number  Quarter  Employee Id  Sex (Male=1)  Race       Age  \\\n",
       "0                   1        1            1           0.0   3.0  27.31931   \n",
       "1                   2        2            1           0.0   3.0  27.81931   \n",
       "2                   3        3            1           0.0   3.0  28.06931   \n",
       "3                   4        4            1           0.0   3.0  28.31931   \n",
       "4                   5        5            1           0.0   3.0  28.56931   \n",
       "\n",
       "   Hospital Visit This Quarter (1=Yes)    Salary  Health Score  \n",
       "0                                    0  36906.57      3.695037  \n",
       "1                                    0  37906.57      4.978868  \n",
       "2                                    0  38906.57      4.007956  \n",
       "3                                    0  39906.57      2.337157  \n",
       "4                                    0  40906.57      2.112604  "
      ]
     },
     "execution_count": 17,
     "metadata": {},
     "output_type": "execute_result"
    }
   ],
   "source": [
    "df = data.dropna(axis = 0)\n",
    "df.head()\n",
    "# Delete the rows of missing values (sex, race), there are 16927 rows (observations) left"
   ]
  },
  {
   "cell_type": "code",
   "execution_count": 18,
   "metadata": {},
   "outputs": [
    {
     "data": {
      "text/plain": [
       "Quarter\n",
       "1     43788.526783\n",
       "2     44383.833418\n",
       "3     45138.384317\n",
       "4     45628.329355\n",
       "5     46250.401152\n",
       "6     47060.679575\n",
       "7     47919.308621\n",
       "8     48808.722856\n",
       "9     49697.859086\n",
       "10    50623.592845\n",
       "11    51560.722660\n",
       "12    52516.347732\n",
       "Name: Salary, dtype: float64"
      ]
     },
     "execution_count": 18,
     "metadata": {},
     "output_type": "execute_result"
    }
   ],
   "source": [
    "# average for salary according to every quarter\n",
    "df.groupby('Quarter')['Salary'].mean()"
   ]
  },
  {
   "cell_type": "code",
   "execution_count": 19,
   "metadata": {},
   "outputs": [
    {
     "data": {
      "text/plain": [
       "Text(0.5, 1.0, 'Mean_salary vs Quarter')"
      ]
     },
     "execution_count": 19,
     "metadata": {},
     "output_type": "execute_result"
    },
    {
     "data": {
      "image/png": "[encoded data removed]",
      "text/plain": [
       "<Figure size 432x288 with 1 Axes>"
      ]
     },
     "metadata": {
      "needs_background": "light"
     },
     "output_type": "display_data"
    }
   ],
   "source": [
    "df.groupby('Quarter')['Salary'].mean().plot(kind='line')\n",
    "plt.ylabel('Mean_Salary')\n",
    "plt.title('Mean_salary vs Quarter')"
   ]
  },
  {
   "cell_type": "code",
   "execution_count": 20,
   "metadata": {},
   "outputs": [
    {
     "data": {
      "text/plain": [
       "Quarter\n",
       "1     26.643205\n",
       "2     26.551455\n",
       "3     26.771890\n",
       "4     27.140400\n",
       "5     27.566030\n",
       "6     28.103110\n",
       "7     28.516630\n",
       "8     28.907020\n",
       "9     29.272870\n",
       "10    29.608690\n",
       "11    29.913520\n",
       "12    30.204410\n",
       "Name: Age, dtype: float64"
      ]
     },
     "execution_count": 20,
     "metadata": {},
     "output_type": "execute_result"
    }
   ],
   "source": [
    "df.groupby('Quarter')['Age'].median()"
   ]
  },
  {
   "cell_type": "code",
   "execution_count": 21,
   "metadata": {},
   "outputs": [
    {
     "data": {
      "text/plain": [
       "Text(0.5, 1.0, 'Median_age vs Quarter')"
      ]
     },
     "execution_count": 21,
     "metadata": {},
     "output_type": "execute_result"
    },
    {
     "data": {
      "image/png": "[encoded data removed]",
      "text/plain": [
       "<Figure size 432x288 with 1 Axes>"
      ]
     },
     "metadata": {
      "needs_background": "light"
     },
     "output_type": "display_data"
    }
   ],
   "source": [
    "df.groupby('Quarter')['Age'].median().plot(kind='line')\n",
    "plt.ylabel('Median_age')\n",
    "plt.title('Median_age vs Quarter')"
   ]
  },
  {
   "cell_type": "code",
   "execution_count": 22,
   "metadata": {},
   "outputs": [],
   "source": [
    "# Q2 a) Which characteristics are associated with the health score? \n",
    "# Use tables and charts (suggestion: scatter plots for continuous variables) to determine which characteristics are associated with the health score."
   ]
  },
  {
   "cell_type": "code",
   "execution_count": 23,
   "metadata": {},
   "outputs": [],
   "source": [
    "#For health scores, there are 1238 records (6.48%) show 10, which is unreasonable since the maximum score is only 6. I decided to delete these rows.\n",
    "#In addition, I delete the rows with unreasonable age, as well as missing values. There are 15878 rows left\n"
   ]
  },
  {
   "cell_type": "code",
   "execution_count": 24,
   "metadata": {},
   "outputs": [
    {
     "data": {
      "text/html": [
       "<div>\n",
       "<style scoped>\n",
       "    .dataframe tbody tr th:only-of-type {\n",
       "        vertical-align: middle;\n",
       "    }\n",
       "\n",
       "    .dataframe tbody tr th {\n",
       "        vertical-align: top;\n",
       "    }\n",
       "\n",
       "    .dataframe thead th {\n",
       "        text-align: right;\n",
       "    }\n",
       "</style>\n",
       "<table border=\"1\" class=\"dataframe\">\n",
       "  <thead>\n",
       "    <tr style=\"text-align: right;\">\n",
       "      <th></th>\n",
       "      <th>Observation Number</th>\n",
       "      <th>Quarter</th>\n",
       "      <th>Employee Id</th>\n",
       "      <th>Sex (Male=1)</th>\n",
       "      <th>Race</th>\n",
       "      <th>Age</th>\n",
       "      <th>Hospital Visit This Quarter (1=Yes)</th>\n",
       "      <th>Salary</th>\n",
       "      <th>Health Score</th>\n",
       "    </tr>\n",
       "  </thead>\n",
       "  <tbody>\n",
       "    <tr>\n",
       "      <th>0</th>\n",
       "      <td>1</td>\n",
       "      <td>1</td>\n",
       "      <td>1</td>\n",
       "      <td>0.0</td>\n",
       "      <td>3.0</td>\n",
       "      <td>27.31931</td>\n",
       "      <td>0</td>\n",
       "      <td>36906.57</td>\n",
       "      <td>3.695037</td>\n",
       "    </tr>\n",
       "    <tr>\n",
       "      <th>1</th>\n",
       "      <td>2</td>\n",
       "      <td>2</td>\n",
       "      <td>1</td>\n",
       "      <td>0.0</td>\n",
       "      <td>3.0</td>\n",
       "      <td>27.81931</td>\n",
       "      <td>0</td>\n",
       "      <td>37906.57</td>\n",
       "      <td>4.978868</td>\n",
       "    </tr>\n",
       "    <tr>\n",
       "      <th>2</th>\n",
       "      <td>3</td>\n",
       "      <td>3</td>\n",
       "      <td>1</td>\n",
       "      <td>0.0</td>\n",
       "      <td>3.0</td>\n",
       "      <td>28.06931</td>\n",
       "      <td>0</td>\n",
       "      <td>38906.57</td>\n",
       "      <td>4.007956</td>\n",
       "    </tr>\n",
       "    <tr>\n",
       "      <th>3</th>\n",
       "      <td>4</td>\n",
       "      <td>4</td>\n",
       "      <td>1</td>\n",
       "      <td>0.0</td>\n",
       "      <td>3.0</td>\n",
       "      <td>28.31931</td>\n",
       "      <td>0</td>\n",
       "      <td>39906.57</td>\n",
       "      <td>2.337157</td>\n",
       "    </tr>\n",
       "    <tr>\n",
       "      <th>4</th>\n",
       "      <td>5</td>\n",
       "      <td>5</td>\n",
       "      <td>1</td>\n",
       "      <td>0.0</td>\n",
       "      <td>3.0</td>\n",
       "      <td>28.56931</td>\n",
       "      <td>0</td>\n",
       "      <td>40906.57</td>\n",
       "      <td>2.112604</td>\n",
       "    </tr>\n",
       "  </tbody>\n",
       "</table>\n",
       "</div>"
      ],
      "text/plain": [
       "   Observation Number  Quarter  Employee Id  Sex (Male=1)  Race       Age  \\\n",
       "0                   1        1            1           0.0   3.0  27.31931   \n",
       "1                   2        2            1           0.0   3.0  27.81931   \n",
       "2                   3        3            1           0.0   3.0  28.06931   \n",
       "3                   4        4            1           0.0   3.0  28.31931   \n",
       "4                   5        5            1           0.0   3.0  28.56931   \n",
       "\n",
       "   Hospital Visit This Quarter (1=Yes)    Salary  Health Score  \n",
       "0                                    0  36906.57      3.695037  \n",
       "1                                    0  37906.57      4.978868  \n",
       "2                                    0  38906.57      4.007956  \n",
       "3                                    0  39906.57      2.337157  \n",
       "4                                    0  40906.57      2.112604  "
      ]
     },
     "execution_count": 24,
     "metadata": {},
     "output_type": "execute_result"
    }
   ],
   "source": [
    "data= data[~data['Health Score'].isin([10])]\n",
    "data= data[data['Age'] < 100]\n",
    "data= data[data['Age'] > 15]\n",
    "data1 =data.dropna(axis = 0)\n",
    "data1.head()"
   ]
  },
  {
   "cell_type": "code",
   "execution_count": 25,
   "metadata": {},
   "outputs": [
    {
     "data": {
      "text/plain": [
       "Quarter\n",
       "1     2.957220\n",
       "2     3.062881\n",
       "3     3.053617\n",
       "4     3.082009\n",
       "5     3.080370\n",
       "6     3.121949\n",
       "7     3.192630\n",
       "8     3.135304\n",
       "9     3.177808\n",
       "10    3.147629\n",
       "11    3.234287\n",
       "12    3.298995\n",
       "Name: Health Score, dtype: float64"
      ]
     },
     "execution_count": 25,
     "metadata": {},
     "output_type": "execute_result"
    }
   ],
   "source": [
    "data1.groupby('Quarter')['Health Score'].mean()"
   ]
  },
  {
   "cell_type": "code",
   "execution_count": 26,
   "metadata": {},
   "outputs": [
    {
     "data": {
      "text/plain": [
       "<matplotlib.legend.Legend at 0x294e92d2ac8>"
      ]
     },
     "execution_count": 26,
     "metadata": {},
     "output_type": "execute_result"
    },
    {
     "data": {
      "image/png": "[encoded data removed]",
      "text/plain": [
       "<Figure size 432x288 with 1 Axes>"
      ]
     },
     "metadata": {
      "needs_background": "light"
     },
     "output_type": "display_data"
    }
   ],
   "source": [
    "data1.groupby('Quarter')['Health Score'].mean().plot(kind='line')\n",
    "plt.ylabel('Health Score') \n",
    "plt.title('Overall Health Score vs Quarter') #it has the tendency to increase\n",
    "plt.legend(loc = 'upper left')"
   ]
  },
  {
   "cell_type": "code",
   "execution_count": 27,
   "metadata": {},
   "outputs": [],
   "source": [
    "#sex related with health score?"
   ]
  },
  {
   "cell_type": "code",
   "execution_count": 28,
   "metadata": {},
   "outputs": [
    {
     "data": {
      "text/plain": [
       "[1, 2, 3, 4, 5, 6, 7, 8, 9, 10, 11, 12]"
      ]
     },
     "execution_count": 28,
     "metadata": {},
     "output_type": "execute_result"
    }
   ],
   "source": [
    "x = list(range(1,13))\n",
    "x"
   ]
  },
  {
   "cell_type": "code",
   "execution_count": 29,
   "metadata": {},
   "outputs": [],
   "source": [
    "male = data1[data1['Sex (Male=1)'] == 1]\n",
    "y1 = male.groupby('Quarter')['Health Score'].mean()\n",
    "female = data1[data1['Sex (Male=1)'] == 0]\n",
    "y0 = female.groupby('Quarter')['Health Score'].mean()"
   ]
  },
  {
   "cell_type": "code",
   "execution_count": 30,
   "metadata": {},
   "outputs": [
    {
     "data": {
      "text/plain": [
       "<matplotlib.legend.Legend at 0x294e927e320>"
      ]
     },
     "execution_count": 30,
     "metadata": {},
     "output_type": "execute_result"
    },
    {
     "data": {
      "image/png": "[encoded data removed]",
      "text/plain": [
       "<Figure size 432x288 with 1 Axes>"
      ]
     },
     "metadata": {
      "needs_background": "light"
     },
     "output_type": "display_data"
    }
   ],
   "source": [
    "plt.scatter(x,y1, color= 'g', label='male')\n",
    "plt.scatter(x,y0, color= 'b', label='female')\n",
    "plt.xlabel('Quarter')\n",
    "plt.ylabel('Health Score')\n",
    "plt.title('Health Score beased on Sex')\n",
    "plt.legend(loc = 'upper left')"
   ]
  },
  {
   "cell_type": "code",
   "execution_count": 31,
   "metadata": {},
   "outputs": [],
   "source": [
    "#Salary related to HS?"
   ]
  },
  {
   "cell_type": "code",
   "execution_count": 32,
   "metadata": {},
   "outputs": [],
   "source": [
    "Salary_low= data1[data1['Salary'] < data1['Salary'].quantile(0.25)]\n",
    "S1 = Salary_low.groupby('Quarter')['Health Score'].mean()\n",
    "\n",
    "Salary_medium= data1[(data1['Salary'] > data1['Salary'].quantile(0.25)) & (data1['Salary'] < data1['Salary'].quantile(0.5)) ]\n",
    "S2 = Salary_medium.groupby('Quarter')['Health Score'].mean()\n",
    "\n",
    "Salary_high= data1[(data1['Salary'] > data1['Salary'].quantile(0.5)) & (data1['Salary'] < data1['Salary'].quantile(0.75)) ]\n",
    "S3 = Salary_high.groupby('Quarter')['Health Score'].mean()\n",
    "\n",
    "Salary_fancy= data1[data1['Salary'] > data1['Salary'].quantile(0.75)]\n",
    "S4 = Salary_fancy.groupby('Quarter')['Health Score'].mean()"
   ]
  },
  {
   "cell_type": "code",
   "execution_count": 33,
   "metadata": {},
   "outputs": [
    {
     "data": {
      "text/plain": [
       "<matplotlib.legend.Legend at 0x294e94f6d68>"
      ]
     },
     "execution_count": 33,
     "metadata": {},
     "output_type": "execute_result"
    },
    {
     "data": {
      "image/png": "[encoded data removed]",
      "text/plain": [
       "<Figure size 432x288 with 1 Axes>"
      ]
     },
     "metadata": {
      "needs_background": "light"
     },
     "output_type": "display_data"
    }
   ],
   "source": [
    "plt.scatter(x,S1, color= 'g', label='Salary_low')\n",
    "plt.scatter(x,S2, color= 'b', label='Salary_medium')\n",
    "plt.scatter(x,S3, color= 'y', label='Salary_high')\n",
    "plt.scatter(x,S4, color= 'r', label='Salary_fancy')\n",
    "\n",
    "plt.xlabel('Quarter')\n",
    "plt.ylabel('Health Score')\n",
    "plt.title('Health Score beased on Salary')\n",
    "plt.legend(loc = 'upper left')"
   ]
  },
  {
   "cell_type": "code",
   "execution_count": 34,
   "metadata": {},
   "outputs": [],
   "source": [
    "# race associated with HS?"
   ]
  },
  {
   "cell_type": "code",
   "execution_count": 35,
   "metadata": {},
   "outputs": [],
   "source": [
    "Race1 = data1[data1['Race'] == 1]\n",
    "R1 = Race1.groupby('Quarter')['Health Score'].mean()\n",
    "Race2 = data1[data1['Race'] == 2]\n",
    "R2 = Race2.groupby('Quarter')['Health Score'].mean()\n",
    "Race3 = data1[data1['Race'] == 3]\n",
    "R3 = Race3.groupby('Quarter')['Health Score'].mean()"
   ]
  },
  {
   "cell_type": "code",
   "execution_count": 36,
   "metadata": {},
   "outputs": [
    {
     "data": {
      "text/plain": [
       "<matplotlib.legend.Legend at 0x294e940a7f0>"
      ]
     },
     "execution_count": 36,
     "metadata": {},
     "output_type": "execute_result"
    },
    {
     "data": {
      "image/png": "[encoded data removed]",
      "text/plain": [
       "<Figure size 432x288 with 1 Axes>"
      ]
     },
     "metadata": {
      "needs_background": "light"
     },
     "output_type": "display_data"
    }
   ],
   "source": [
    "plt.scatter(x,R1, color= 'r', label='Race1')\n",
    "plt.scatter(x,R2, color= 'b', label='Race2')\n",
    "plt.scatter(x,R3, color= 'y', label='Race3')\n",
    "\n",
    "plt.xlabel('Quarter')\n",
    "plt.ylabel('Health Score')\n",
    "plt.title('Health Score beased on Race')\n",
    "plt.legend(loc = 'upper left')"
   ]
  },
  {
   "cell_type": "code",
   "execution_count": 37,
   "metadata": {},
   "outputs": [],
   "source": [
    "#age associated with HS?"
   ]
  },
  {
   "cell_type": "code",
   "execution_count": 38,
   "metadata": {},
   "outputs": [
    {
     "data": {
      "text/plain": [
       "Quarter\n",
       "1     3.054889\n",
       "2     2.120430\n",
       "3     4.521749\n",
       "4     4.099044\n",
       "5     1.866395\n",
       "6     3.149277\n",
       "7     3.054377\n",
       "8     4.408543\n",
       "9     3.900422\n",
       "10    2.321493\n",
       "11    4.039900\n",
       "12    3.275846\n",
       "Name: Health Score, dtype: float64"
      ]
     },
     "execution_count": 38,
     "metadata": {},
     "output_type": "execute_result"
    }
   ],
   "source": [
    "teen= data1[data1['Age'] <= 20]\n",
    "teen.groupby('Quarter')['Health Score'].mean()"
   ]
  },
  {
   "cell_type": "code",
   "execution_count": 39,
   "metadata": {
    "scrolled": true
   },
   "outputs": [
    {
     "data": {
      "text/plain": [
       "Quarter\n",
       "1     2.898694\n",
       "2     3.015182\n",
       "3     3.007962\n",
       "4     3.027791\n",
       "5     3.029707\n",
       "6     3.063138\n",
       "7     3.129200\n",
       "8     3.064211\n",
       "9     3.109855\n",
       "10    3.069779\n",
       "11    3.141554\n",
       "12    3.212226\n",
       "Name: Health Score, dtype: float64"
      ]
     },
     "execution_count": 39,
     "metadata": {},
     "output_type": "execute_result"
    }
   ],
   "source": [
    "adult=data1[(data1['Age'] <= 40) & (data1['Age'] >20)]\n",
    "adult.groupby('Quarter')['Health Score'].mean()"
   ]
  },
  {
   "cell_type": "code",
   "execution_count": 40,
   "metadata": {},
   "outputs": [
    {
     "data": {
      "text/plain": [
       "Quarter\n",
       "1     3.580683\n",
       "2     3.708426\n",
       "3     3.643565\n",
       "4     3.820893\n",
       "5     3.762125\n",
       "6     3.842567\n",
       "7     3.900360\n",
       "8     3.838635\n",
       "9     3.764866\n",
       "10    3.808963\n",
       "11    3.890727\n",
       "12    3.912542\n",
       "Name: Health Score, dtype: float64"
      ]
     },
     "execution_count": 40,
     "metadata": {},
     "output_type": "execute_result"
    }
   ],
   "source": [
    "midaged=data1[(data1['Age'] <= 60) & (data1['Age'] >40)]\n",
    "midaged.groupby('Quarter')['Health Score'].mean()"
   ]
  },
  {
   "cell_type": "code",
   "execution_count": 41,
   "metadata": {},
   "outputs": [
    {
     "data": {
      "text/plain": [
       "Quarter\n",
       "4     5.230286\n",
       "5     3.876224\n",
       "6     5.091189\n",
       "7     2.823402\n",
       "8     2.753541\n",
       "9     2.059871\n",
       "10    2.453787\n",
       "11    4.419088\n",
       "12    3.692762\n",
       "Name: Health Score, dtype: float64"
      ]
     },
     "execution_count": 41,
     "metadata": {},
     "output_type": "execute_result"
    }
   ],
   "source": [
    "old=data1[data1['Age'] >60]\n",
    "old.groupby('Quarter')['Health Score'].mean()"
   ]
  },
  {
   "cell_type": "code",
   "execution_count": 42,
   "metadata": {},
   "outputs": [
    {
     "data": {
      "text/plain": [
       "[4, 5, 6, 7, 8, 9, 10, 11, 12]"
      ]
     },
     "execution_count": 42,
     "metadata": {},
     "output_type": "execute_result"
    }
   ],
   "source": [
    "x2=list(range(4,13))\n",
    "x2"
   ]
  },
  {
   "cell_type": "code",
   "execution_count": 43,
   "metadata": {},
   "outputs": [],
   "source": [
    "teen= data1[data1['Age'] <= 20]\n",
    "A1 = teen.groupby('Quarter')['Health Score'].mean()\n",
    "adult=data1[(data1['Age'] <= 40) & (data1['Age'] >20)]\n",
    "A2 = adult.groupby('Quarter')['Health Score'].mean()\n",
    "midaged=data1[(data1['Age'] <= 60) & (data1['Age'] >40)]\n",
    "A3 = midaged.groupby('Quarter')['Health Score'].mean()\n",
    "old=data1[data1['Age'] >60]\n",
    "A4 = old.groupby('Quarter')['Health Score'].mean()"
   ]
  },
  {
   "cell_type": "code",
   "execution_count": 44,
   "metadata": {},
   "outputs": [
    {
     "data": {
      "text/plain": [
       "<matplotlib.legend.Legend at 0x294e93d0f60>"
      ]
     },
     "execution_count": 44,
     "metadata": {},
     "output_type": "execute_result"
    },
    {
     "data": {
      "image/png": "[encoded data removed]",
      "text/plain": [
       "<Figure size 432x288 with 1 Axes>"
      ]
     },
     "metadata": {
      "needs_background": "light"
     },
     "output_type": "display_data"
    }
   ],
   "source": [
    "plt.scatter(x,A1, color= 'r', label='teen')\n",
    "plt.scatter(x,A2, color= 'b', label='adult')\n",
    "plt.scatter(x,A3, color= 'y', label='midage')\n",
    "plt.scatter(x2,A4, color= 'c', label='old')\n",
    "\n",
    "plt.xlabel('Quarter')\n",
    "plt.ylabel('Health Score')\n",
    "plt.title('Health Score beased on Age')\n",
    "plt.legend(loc = 'upper left')"
   ]
  },
  {
   "cell_type": "code",
   "execution_count": 45,
   "metadata": {},
   "outputs": [],
   "source": [
    "visit0 = data1[data1['Hospital Visit This Quarter (1=Yes)'] == 0]\n",
    "V0 = visit0.groupby('Quarter')['Health Score'].mean()\n",
    "visit1 = data1[data1['Hospital Visit This Quarter (1=Yes)'] == 1]\n",
    "V1 = visit1.groupby('Quarter')['Health Score'].mean()"
   ]
  },
  {
   "cell_type": "code",
   "execution_count": 50,
   "metadata": {},
   "outputs": [
    {
     "data": {
      "text/plain": [
       "<matplotlib.legend.Legend at 0x294e8ef8d30>"
      ]
     },
     "execution_count": 50,
     "metadata": {},
     "output_type": "execute_result"
    },
    {
     "data": {
      "image/png": "[encoded data removed]",
      "text/plain": [
       "<Figure size 432x288 with 1 Axes>"
      ]
     },
     "metadata": {
      "needs_background": "light"
     },
     "output_type": "display_data"
    }
   ],
   "source": [
    "plt.scatter(x,V1, color= 'r', label='visit')\n",
    "plt.scatter(x,V0, color= 'b', label='no visit')\n",
    "\n",
    "plt.xlabel('Quarter')\n",
    "plt.ylabel('Health Score')\n",
    "plt.title('Health Score beased on hospital_visit')\n",
    "plt.legend(loc = 'upper left')"
   ]
  },
  {
   "cell_type": "code",
   "execution_count": 48,
   "metadata": {},
   "outputs": [
    {
     "data": {
      "text/plain": [
       "Quarter\n",
       "1     2.922754\n",
       "2     3.001662\n",
       "3     2.999667\n",
       "4     2.992141\n",
       "5     3.013621\n",
       "6     3.054979\n",
       "7     3.136870\n",
       "8     3.082865\n",
       "9     3.107098\n",
       "10    3.081396\n",
       "11    3.164345\n",
       "12    3.171862\n",
       "Name: Health Score, dtype: float64"
      ]
     },
     "execution_count": 48,
     "metadata": {},
     "output_type": "execute_result"
    }
   ],
   "source": [
    "data1[data1['Hospital Visit This Quarter (1=Yes)'] == 0]\n",
    "visit0.groupby('Quarter')['Health Score'].mean()"
   ]
  },
  {
   "cell_type": "code",
   "execution_count": 49,
   "metadata": {},
   "outputs": [
    {
     "data": {
      "text/plain": [
       "Quarter\n",
       "1     3.395191\n",
       "2     3.717826\n",
       "3     3.576758\n",
       "4     3.880594\n",
       "5     3.682057\n",
       "6     3.712266\n",
       "7     3.705115\n",
       "8     3.615775\n",
       "9     3.679669\n",
       "10    3.785834\n",
       "11    3.928536\n",
       "12    3.830157\n",
       "Name: Health Score, dtype: float64"
      ]
     },
     "execution_count": 49,
     "metadata": {},
     "output_type": "execute_result"
    }
   ],
   "source": [
    "visit1 = data1[data1['Hospital Visit This Quarter (1=Yes)'] == 1]\n",
    "visit1.groupby('Quarter')['Health Score'].mean()"
   ]
  }
 ],
 "metadata": {
  "kernelspec": {
   "display_name": "Python 3",
   "language": "python",
   "name": "python3"
  },
  "language_info": {
   "codemirror_mode": {
    "name": "ipython",
    "version": 3
   },
   "file_extension": ".py",
   "mimetype": "text/x-python",
   "name": "python",
   "nbconvert_exporter": "python",
   "pygments_lexer": "ipython3",
   "version": "3.7.3"
  }
 },
 "nbformat": 4,
 "nbformat_minor": 2
}
